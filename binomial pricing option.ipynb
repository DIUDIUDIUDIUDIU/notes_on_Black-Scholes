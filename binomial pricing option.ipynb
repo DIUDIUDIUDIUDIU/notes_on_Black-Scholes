{
 "cells": [
  {
   "cell_type": "code",
   "execution_count": 1,
   "metadata": {},
   "outputs": [],
   "source": [
    "import numpy as np\n",
    "import scipy.stats\n",
    "import matplotlib.pyplot as plt"
   ]
  },
  {
   "cell_type": "markdown",
   "metadata": {},
   "source": [
    "# Eupopean call option"
   ]
  },
  {
   "cell_type": "markdown",
   "metadata": {},
   "source": [
    " * $S$: the current stock price (at time 0);\n",
    " * $r$: one plus riskless interest rate\n",
    " * $p$: the probability that the stock price increases in one period\n",
    " \n",
    " The model is \n",
    " $$S_{t+1} = \\left\\{\n",
    " \\begin{align} \n",
    " &uS_t, ~~with~~probability~~p\\\\\n",
    " &dS_t, ~~with~~probability~~1-p\\\\\n",
    " \\end{align}\\right.$$\n",
    " where $u>r>d$ and $u,d,p$ and $r$ are constant throughout time\n",
    "<br>\n",
    "<br>\n",
    " * $C_u = max(0, uS-K)$ is the call option price if $S \\rightarrow uS$\n",
    " * $C_d = max(0, dS-K)$ is the call option price if $S \\rightarrow dS$\n",
    " <br>\n",
    " <br>\n",
    " Suppose now we have a portfolio containing $\\Delta$ shares of stock and $B$ dolloars of riskless bonds. At the end f the period, the value of the portfolio becomes \n",
    " $$\\left\\{\n",
    " \\begin{align} \n",
    " &uS\\Delta + rB, ~~with~~probability~~p\\\\\n",
    " &dS\\Delta + rB, ~~with~~probability~~1-p\\\\\n",
    " \\end{align}\\right.$$\n",
    " Now we let \n",
    " $$\\bigg\\{\n",
    " \\begin{align} \n",
    " &uS\\Delta + rB = C_u\\\\\n",
    " &dS\\Delta + rB = C_d\\\\\n",
    " \\end{align}$$\n",
    " This equations yields\n",
    " $$\\Delta = \\frac{C_u - C_d}{(u-d)S},~~~~B = \\frac{uC_d - dC_u}{(u-d)r}.$$\n",
    " \n",
    "<br>\n",
    "Assuming no arbitrage opportunities, it must be true that \n",
    "\\begin{align}\n",
    "C &= S\\Delta+B\\\\\n",
    "& = \\frac{C_u - C_d}{u-d} + \\frac{uC_d - dC_u}{(u-d)r}\\\\\n",
    "&=\\frac{1}{r}\\left[\\frac{r-d}{u-d}C_u = \\frac{u-r}{u-d}C_d  \\right]\n",
    "\\end{align}\n",
    "\n",
    "<br>\n",
    "Defining $q:=\\frac{r-d}{u-d}$ yields $C=r^{-1}\\left[qC_u+(1-q)C_d\\right]$.\n",
    "\n",
    "<br>\n",
    "For the $T$ period option, we can first recursively generate the stock prices and then recursively calculate the option prices."
   ]
  },
  {
   "cell_type": "markdown",
   "metadata": {
    "nbpresent": {
     "id": "b6f68223-c2db-4452-a5a8-93ce4e03815f"
    }
   },
   "source": [
    "## T-period binomial pricing tree\n",
    "\n",
    "Use 2D array to stroe the value"
   ]
  },
  {
   "cell_type": "code",
   "execution_count": 2,
   "metadata": {
    "nbpresent": {
     "id": "05e7a43d-db4d-4ab6-ace4-ed1981228fac"
    }
   },
   "outputs": [
    {
     "data": {
      "text/plain": [
       "26.090102123159994"
      ]
     },
     "execution_count": 2,
     "metadata": {},
     "output_type": "execute_result"
    }
   ],
   "source": [
    "def arrayD2Tree(S=100, u=1.2, r=1.1, d=0.9, T=3, K=100):\n",
    "    lattice = np.zeros((T+1, 2**T))\n",
    "    lattice[0][0] = S\n",
    "    \n",
    "    # calculate the expired stock price\n",
    "    for i in range(0, T):\n",
    "        for j in range(2**i):\n",
    "            lattice[i+1][2*j] = lattice[i][j] * d\n",
    "            lattice[i+1][2*j+1] = lattice[i][j] * u\n",
    "\n",
    "    q = (r - d) / (u - d) # the Q measure\n",
    "    \n",
    "    # calculate the payoff at leaves\n",
    "    for j in range(2**T):\n",
    "        lattice[T][j] = max([0, lattice[T][j] - K])\n",
    "        \n",
    "    # back from the leaves\n",
    "    for i in range(T-1, 0, -1):\n",
    "        for j in range(2**i):\n",
    "            lattice[i][j] = ((1 - q) * lattice[i+1][2*j] + q * lattice[i+1, 2*j+1]) / r\n",
    "    lattice[0][0] = ((1 - q) * lattice[1][0] + q * lattice[1, 1]) / r\n",
    "\n",
    "    return lattice[0][0]\n",
    "\n",
    "arrayD2Tree()"
   ]
  },
  {
   "cell_type": "markdown",
   "metadata": {
    "nbpresent": {
     "id": "2ec2260e-fdbc-4f1f-b8c8-eb6584a0e843"
    }
   },
   "source": [
    "## Improved T-period binomial pricing tree\n",
    "\n",
    "Use 1D array to save more space"
   ]
  },
  {
   "cell_type": "code",
   "execution_count": 3,
   "metadata": {
    "nbpresent": {
     "id": "d7ea3c0d-3d21-4bd8-bea6-7641752146ec"
    }
   },
   "outputs": [
    {
     "data": {
      "text/plain": [
       "26.090102123159994"
      ]
     },
     "execution_count": 3,
     "metadata": {},
     "output_type": "execute_result"
    }
   ],
   "source": [
    "def arrayD1Tree(S=100, u=1.2, r=1.1, d=0.9, T=3, K=100):\n",
    "    lattice = np.zeros(2 ** (T + 1) - 1)\n",
    "    lattice[0] = S\n",
    "    \n",
    "    # calculate the expired stock price\n",
    "    t = 1\n",
    "    while t <= 2 ** (T - 1):\n",
    "        for i in range(t-1, 2*t-1):\n",
    "            lattice[2*i+1] = lattice[i] * d\n",
    "            lattice[2*i+2] = lattice[i] * u\n",
    "        t *= 2\n",
    "        \n",
    "    #for i in range(T+1):\n",
    "    #    print(lattice[2**i-1: 2**(i+1)-1])\n",
    "\n",
    "    q = (r - d) / (u - d) # the Q measure\n",
    "    \n",
    "    # calculate the payoff at leaves\n",
    "    for i in range(t-1, 2*t-1):\n",
    "        lattice[i] = max([0, lattice[i] - K])\n",
    "        \n",
    "    # back from the leaves\n",
    "    t //= 2\n",
    "    while t > 0:\n",
    "        for i in range(t-1, 2*t-1):\n",
    "            lattice[i] = ((1 - q) * lattice[2*i+1] + q * lattice[2*i+2]) / r\n",
    "        t //= 2\n",
    "        \n",
    "    #for i in range(T+1):\n",
    "    #    print(lattice[2**i-1: 2**(i+1)-1])\n",
    "\n",
    "    return lattice[0]\n",
    "\n",
    "arrayD1Tree()"
   ]
  },
  {
   "cell_type": "markdown",
   "metadata": {},
   "source": [
    "## Simpler formula by binomial theorem\n",
    "Among the n periods, suppose the stock experienced $j$ up moves and $n-j$ down moves, the stock price at expiration is $S_T := u^jd^{T-j}S$, and the call value at expiration is $max(0, u^jd^{n-j}S-K)$. Using Binomial theorem we can further write<br>\n",
    "\n",
    "$$C=r^{-T}\\sum_{j=0}^T\\left[\\binom{T}{j}q^j(1-q)^{T-j}max\\left(0, u^jd^{T-j}S-K \\right) \\right]$$\n",
    "\n",
    "Let $a := \\lceil \\log(K/Sd^T)/\\log(u/d) \\rceil$ be the first nonnegative integer such that $u^jd^{T-j}S>K$. We can further write\n",
    "<br>\n",
    "\n",
    "\\begin{align}\n",
    "C&=r^{-T}\\sum_{j=a}^T\\left[\\binom{T}{j}q^j(1-q)^{T-j}\\left(u^jd^{T-j}S-K \\right) \\right]\\\\\n",
    "& = S\\left[\\sum_{j=a}^T\\binom{T}{j}q^j(1-q)^{T-j}\\frac{u^jd^{T-j}}{r^T} \\right] - Kr^{-n}\\left[\\sum_{j=a}^T\\binom{T}{j}q^j(1-q)^{T-j} \\right]\\\\\n",
    "& = S\\Phi[a;T,q']-Kr^{-T}\\Phi[a;T,q]\n",
    "\\end{align}\n",
    "where $$q'=\\frac{u}{r}q$$ and $$\\Phi[a;T,q]:=\\sum_{j=a}^T\\binom{T}{j}q^j(1-q)^{T-j}$$"
   ]
  },
  {
   "cell_type": "code",
   "execution_count": 4,
   "metadata": {},
   "outputs": [
    {
     "data": {
      "text/plain": [
       "26.090102123159994"
      ]
     },
     "execution_count": 4,
     "metadata": {},
     "output_type": "execute_result"
    }
   ],
   "source": [
    "def binOption(S=100, u=1.2, r=1.1, d=0.9, T=3, K=100):\n",
    "    a = np.floor(np.log(K / S / d ** T) / np.log(u / d))  # here we use floor because we will use 1-cdf below\n",
    "    q = (r - d) / (u - d)\n",
    "    phi = 1 - scipy.stats.binom.cdf(a, T, q)\n",
    "    q_1 = (u / r) * q   # correspoinding q'\n",
    "    phi_1 = 1 - scipy.stats.binom.cdf(a, T, q_1, loc=0)  # corresponding phi'\n",
    "    return S * phi_1 - K / r ** T * phi\n",
    "binOption()"
   ]
  },
  {
   "cell_type": "markdown",
   "metadata": {},
   "source": [
    "## Limiting distribution of $\\log{(S_T/S)}$\n",
    "\n",
    "Now we assume that the stock price changes $n$ times (instead of $T$ times) in the $T$ periods, and denote the corresponding interest rate (plus one) as $\\widehat{r}_n$ so that \n",
    "<br><br> \n",
    "$$\\widehat{r}_n^n=r^T.$$\n",
    "<br>\n",
    "We would like to consider what will happen if $n\\rightarrow \\infty$. It turns out to be Black-Scoles formula.\n",
    "Now $q,d,u,r$ are not constants any more, depending on $n$.\n",
    "\n",
    "Define our $q$ measure as $$q_n:=\\frac{\\widehat{r}_n - d_n}{u_n-d_n}$$\n",
    "\n",
    "Since $S_T=u_n^jd_n^{n-j}S$, we can write $$\\log{(S_T/S)} = j\\log{u_n} + (n-j)\\log{d_n}.$$\n",
    "\n",
    "Clearly $j\\sim Bin(n,q_n)$ so that\n",
    "\\begin{align}\n",
    "\\mathbb{E}^Q[\\log{(S_T/S)}] & = \\left[q_n\\log{(u_n/d_n)}+\\log{d_n} \\right]n &=: \\widehat{\\mu}_nn\\\\\n",
    "\\mathbb{V}^Q[\\log{(S_T/S)}] & = q_n(1-q_n)\\left[\\log{(u_n/d_n)} \\right]^2n &=: \\widehat{\\sigma}^2_nn\n",
    "\\end{align}\n",
    "where we define\n",
    "\\begin{align}\n",
    "\\widehat{\\mu}_n & := q_n\\log{(u_n/d_n)}+\\log{d_n}\\\\\n",
    "\\widehat{\\sigma}^2_n & :=q_n(1-q_n)\\left[\\log{(u_n/d_n)} \\right]^2\n",
    "\\end{align}\n",
    "\n",
    "We can view $\\log{(S_T/S)}$ as the sum of $n$ independent random variables, each of which can take the value $\\log{u_n}$ with probability $q_n$ and $\\log{d_n}$ with probability $1-q_n$, with mean $\\widehat{\\mu}_n$ and variance $\\widehat{\\sigma}^2_n$.\n",
    "\n",
    "Different choices of $u_n, d_n, q_n$ can leads to different limitting distributions. We consider the case where\n",
    "\n",
    "$$u_n=e^{\\sigma\\sqrt{T/n}},~~~~~d_n=e^{-\\sigma\\sqrt{T/n}}$$\n",
    "where $\\sigma$ are given.\n",
    "\n",
    "To use central limited theorem, we need $\\widehat{\\mu}_nn<\\infty$ and $\\widehat{\\sigma}^2_nn<\\infty$. In fact, one can show that $\\widehat{\\mu}_nn \\rightarrow (\\log{r}-\\frac{1}{2}\\sigma^2)T$ and $\\widehat{\\sigma}^2_nn \\rightarrow \\sigma^2 T$\n",
    "\n",
    "Then by Lyapunov Central Limited Theorem, \n",
    "$$P\\left(\\frac{\\log{(S_T/S)} - \\widehat{\\mu}_nn}{\\widehat{\\sigma}_n\\sqrt{n}}\\leq z \\right) \\rightarrow N(z)$$\n",
    "where $N(z)$ is the CDF of the standard normal distribution."
   ]
  },
  {
   "cell_type": "code",
   "execution_count": 5,
   "metadata": {},
   "outputs": [
    {
     "name": "stdout",
     "output_type": "stream",
     "text": [
      "muHat*n= -1.21404217009 and (log r-0.5sigma^2)T= -1.21406946059\n",
      "sigmaHat^2*n= 2.99985261016 and sigma^2*T= 3\n"
     ]
    },
    {
     "data": {
      "image/png": "[encoded data removed]",
      "text/plain": [
       "<matplotlib.figure.Figure at 0x109c0c278>"
      ]
     },
     "metadata": {},
     "output_type": "display_data"
    }
   ],
   "source": [
    "def testNormal(S=100, T=3, r=1.1, sigma=1, n=10000):\n",
    "    u = np.exp(sigma * np.sqrt(T / n))\n",
    "    d = 1 / u\n",
    "    rHat = (r ** T) ** (1 / n)\n",
    "    q = (rHat - d) / (u - d)\n",
    "    muHat = q * np.log(u / d) + np.log(d)\n",
    "    sigmaHat = np.sqrt(q * (1 - q)) * np.log(u / d)\n",
    "    log_ST_S = np.random.binomial(n, q, 10000)  # generate 10000 samples\n",
    "    print(\"muHat*n=\", muHat * n, \"and (log r-0.5sigma^2)T=\", (np.log(r) - 0.5 * sigma**2) * T)\n",
    "    print(\"sigmaHat^2*n=\", sigmaHat ** 2 * n, \"and sigma^2*T=\", sigma ** 2 * T)\n",
    "    return (log_ST_S - muHat * n) / sigmaHat / n\n",
    "\n",
    "plt.hist(testNormal(), bins=50)\n",
    "plt.show()"
   ]
  },
  {
   "cell_type": "markdown",
   "metadata": {},
   "source": [
    "## Block-Scholes formula\n",
    "\n",
    "We can rewrite our call option price as $$C=S\\Phi[a_n;n,q_n']-Kr^{-n}\\Phi[a_n;n,q_n]$$\n",
    "where \n",
    "$$a:= \\lceil \\log(K/Sd_n^n)/\\log(u_n/d_n) \\rceil,~~~~~q_n' :=\\frac{u_n}{r_n}q_n, ~~~~~\\Phi[a_n;n,q_n] :=\\sum_{j=a_n}^n\\binom{n}{j}q_n^j(1-q_n)^{n-j}$$\n",
    "\n",
    "We can write $$1-\\Phi[a_n;n,q_n]=P(j\\leq a_n-1)=P\\left(\\frac{j-nq_n}{\\sqrt{nq_n(1-q_n)}} \\leq \\frac{a_n-1-nq_n}{\\sqrt{nq_n(1-q_n)}} \\right)$$\n",
    "\n",
    "First we can calculate that $$\\frac{j-nq_n}{\\sqrt{nq_n(1-q_n)}}=\\frac{\\log{(S_T/S)} - \\widehat{\\mu}_nn}{\\widehat{\\sigma}_n\\sqrt{n}}$$\n",
    "\n",
    "Then note that we can write $a_n$ as $$a_n=\\log(K/Sd_n^n)/\\log(u_n/d_n) - \\varepsilon~~~~~~~~~~~~where~~ \\varepsilon \\in (0,1)$$\n",
    "Thus\n",
    "$$\\frac{a_n-1-nq_n}{\\sqrt{nq_n(1-q_n)}} = \\frac{\\log{(K/S)}- \\log{(u_n/d_n)} - \\widehat{\\mu}_nn - \\varepsilon\\log{(u_n/d_n)}}{\\widehat{\\sigma}_n\\sqrt{n}} \\rightarrow \\frac{\\log{(K/S)} - (\\log{r}-\\frac{1}{2}\\sigma^2)T}{\\sigma\\sqrt{T}}$$\n",
    "\n",
    "Hence we have \n",
    "$$1-\\Phi[a_n;n,q_n] \\rightarrow N\\left(\\frac{\\log{(K/S)} - (\\log{r}-\\frac{1}{2}\\sigma^2)T}{\\sigma\\sqrt{T}} \\right)$$\n",
    "The proof for $\\Phi[a_n;n,q_n']$ is similar.\n",
    "\n",
    "Finally we get our Black-Scholes formula:\n",
    "$$C=SN(x)-Kr^{-T}N(x-\\sigma\\sqrt{T}) ~~~~~~ where~~x = \\frac{\\log{(S/K)}+T\\log{r}}{\\sigma\\sqrt{T}}+\\frac{1}{2}\\sigma\\sqrt{T}$$"
   ]
  },
  {
   "cell_type": "code",
   "execution_count": 6,
   "metadata": {},
   "outputs": [
    {
     "data": {
      "text/plain": [
       "66.71851490696136"
      ]
     },
     "execution_count": 6,
     "metadata": {},
     "output_type": "execute_result"
    }
   ],
   "source": [
    "def BS(S=100, sigma=1, r=1.1, T=3, K=100):\n",
    "    x = (np.log(S / K) + T * np.log(r)) / sigma / np.sqrt(T) + 0.5 * sigma * np.sqrt(T)\n",
    "    return S * scipy.stats.norm.cdf(x) - K / r ** T * scipy.stats.norm.cdf(x - sigma * np.sqrt(T))\n",
    "BS()"
   ]
  },
  {
   "cell_type": "markdown",
   "metadata": {},
   "source": [
    "The binomial tree price will converge to BS price:"
   ]
  },
  {
   "cell_type": "code",
   "execution_count": 7,
   "metadata": {},
   "outputs": [
    {
     "data": {
      "image/png": "[encoded data removed]",
      "text/plain": [
       "<matplotlib.figure.Figure at 0x10ece1e10>"
      ]
     },
     "metadata": {},
     "output_type": "display_data"
    }
   ],
   "source": [
    "def binOption2(S=100, sigma=1, r=1.1, n=10000, T=3, K=100):\n",
    "    u = np.exp(sigma * np.sqrt(T / n))\n",
    "    d = 1 / u\n",
    "    rHat = (r ** T) ** (1 / n)\n",
    "    a = np.floor(np.log(K / S / d ** n) / np.log(u / d))  # here we use floor because we will use 1-cdf below\n",
    "    q = (rHat - d) / (u - d)\n",
    "    phi = 1 - scipy.stats.binom.cdf(a, n, q)\n",
    "    q_1 = (u / rHat) * q   # correspoinding q'\n",
    "    phi_1 = 1 - scipy.stats.binom.cdf(a, n, q_1)  # corresponding phi'\n",
    "    return S * phi_1 - K / r ** T * phi\n",
    "\n",
    "n = np.linspace(5, 500, 200, dtype=int)\n",
    "prices = binOption2(n=n)\n",
    "plt.plot(n, prices)\n",
    "plt.show()"
   ]
  },
  {
   "cell_type": "markdown",
   "metadata": {},
   "source": [
    "## Implied volatility\n",
    "\n",
    "In real world, $S, K, r, T$ and $C$ are given. We use BS model to find $\\sigma$ because $C$ is an 1-1 increasing function of $\\sigma$:"
   ]
  },
  {
   "cell_type": "code",
   "execution_count": 8,
   "metadata": {},
   "outputs": [
    {
     "data": {
      "image/png": "[encoded data removed]",
      "text/plain": [
       "<matplotlib.figure.Figure at 0x10ec9bcf8>"
      ]
     },
     "metadata": {},
     "output_type": "display_data"
    }
   ],
   "source": [
    "sigmas = np.linspace(0.1, 5, 50)\n",
    "prices = BS(sigma=sigmas)\n",
    "plt.plot(sigmas, prices)\n",
    "plt.show()"
   ]
  },
  {
   "cell_type": "markdown",
   "metadata": {},
   "source": [
    "We can use Newton-Raphson method to calculate implied volatility. Recall the Newton-Raphson method:\n",
    "\n",
    "$$x_{n+1} = x_n - \\frac{f(x_n)}{f'(x_n)}$$\n",
    "\n",
    "Here $x$ is $\\sigma$ and $f(x)$ is the difference of real price and the price given by BS model.\n",
    "\n",
    "The partial derivative is\n",
    "$$\\frac{\\partial C}{\\partial \\sigma} = SN'(x)\\frac{\\partial x}{\\partial \\sigma} - Kr^{-T}N'(x-\\sigma \\sqrt{T})\\left(\\frac{\\partial x}{\\partial \\sigma}-\\sqrt{T} \\right)$$\n",
    "\n",
    "where $N'(x)$ is the density of standard normal distribution at $x$ and \n",
    "$$\\frac{\\partial x}{\\partial \\sigma} = -\\frac{\\log{(S/K)}+T\\log{r}}{\\sigma^2 \\sqrt{T}}+\\frac{1}{2}\\sqrt{T}$$"
   ]
  },
  {
   "cell_type": "code",
   "execution_count": 9,
   "metadata": {},
   "outputs": [
    {
     "data": {
      "text/plain": [
       "0.63289352927199527"
      ]
     },
     "execution_count": 9,
     "metadata": {},
     "output_type": "execute_result"
    }
   ],
   "source": [
    "def impliedVolatility(S=100, K=100, r=1.1, T=3, C=50):\n",
    "    sigma = 1\n",
    "    BSprice = BS(S=S, sigma=sigma, r=r, T=T, K=K)\n",
    "    diff = BSprice - C\n",
    "    while np.abs(diff) > 1e-6:\n",
    "        x = (np.log(S / K) + T * np.log(r)) / sigma / np.sqrt(T)\n",
    "        partialX = -(np.log(S / K) + T * np.log(r)) / sigma ** 2 / np.sqrt(T) + 0.5 * np.sqrt(T)\n",
    "        derivative = S * scipy.stats.norm.pdf(x) * partialX - \\\n",
    "                     K / r ** T * scipy.stats.norm.pdf(x-sigma*np.sqrt(T)) * (partialX - np.sqrt(T))\n",
    "        sigma -= 0.05 * diff / derivative\n",
    "        BSprice = BS(S=S, sigma=sigma, r=r, T=T, K=K)\n",
    "        diff = BSprice - C\n",
    "    return sigma\n",
    "impliedVolatility()"
   ]
  }
 ],
 "metadata": {
  "kernelspec": {
   "display_name": "Python 3",
   "language": "python",
   "name": "python3"
  },
  "language_info": {
   "codemirror_mode": {
    "name": "ipython",
    "version": 3
   },
   "file_extension": ".py",
   "mimetype": "text/x-python",
   "name": "python",
   "nbconvert_exporter": "python",
   "pygments_lexer": "ipython3",
   "version": "3.6.3"
  }
 },
 "nbformat": 4,
 "nbformat_minor": 2
}
